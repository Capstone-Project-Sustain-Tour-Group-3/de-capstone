{
 "cells": [
  {
   "cell_type": "markdown",
   "metadata": {},
   "source": [
    "### 1. Install Library"
   ]
  },
  {
   "cell_type": "code",
   "execution_count": null,
   "metadata": {},
   "outputs": [],
   "source": [
    "# %pip install pandas mysql-connector-python google-cloud-bigquery"
   ]
  },
  {
   "cell_type": "markdown",
   "metadata": {},
   "source": [
    "### 2. Import Library"
   ]
  },
  {
   "cell_type": "code",
   "execution_count": 1,
   "metadata": {},
   "outputs": [],
   "source": [
    "import pandas as pd\n",
    "import mysql.connector\n",
    "import sqlite3\n",
    "import os\n",
    "from google.cloud import bigquery\n",
    "from dotenv import load_dotenv"
   ]
  },
  {
   "cell_type": "markdown",
   "metadata": {},
   "source": [
    "### 3. Konfigurasi ke Database"
   ]
  },
  {
   "cell_type": "code",
   "execution_count": null,
   "metadata": {},
   "outputs": [],
   "source": [
    "# Load konfigurasi dari .env\n",
    "load_dotenv()\n",
    "\n",
    "# MySQL configurations\n",
    "rds_host = os.getenv('RDS_HOST')\n",
    "rds_dbname = os.getenv('RDS_DBNAME')\n",
    "rds_user = os.getenv('RDS_USER')\n",
    "rds_password = os.getenv('RDS_PASSWORD')\n",
    "\n",
    "# Google Cloud configurations\n",
    "project_id = os.getenv('GOOGLE_CLOUD_PROJECT_ID')\n",
    "dataset_id = os.getenv('GOOGLE_CLOUD_DATASET_ID')\n",
    "google_application_credentials = os.getenv('GOOGLE_APPLICATION_CREDENTIALS')\n",
    "\n",
    "# Set GOOGLE_APPLICATION_CREDENTIALS environment variable\n",
    "os.environ['GOOGLE_APPLICATION_CREDENTIALS'] = google_application_credentials\n",
    "\n",
    "# Koneksi ke MySQL di Amazon RDS\n",
    "conn_rds = mysql.connector.connect(\n",
    "    host=rds_host,\n",
    "    database=rds_dbname,\n",
    "    user=rds_user,\n",
    "    password=rds_password\n",
    ")"
   ]
  },
  {
   "cell_type": "markdown",
   "metadata": {},
   "source": [
    "### 4. Extract"
   ]
  },
  {
   "cell_type": "markdown",
   "metadata": {},
   "source": [
    "### 5. Transformation"
   ]
  },
  {
   "cell_type": "markdown",
   "metadata": {},
   "source": [
    "### 6. Load to Big Query"
   ]
  }
 ],
 "metadata": {
  "kernelspec": {
   "display_name": "Python 3",
   "language": "python",
   "name": "python3"
  },
  "language_info": {
   "codemirror_mode": {
    "name": "ipython",
    "version": 3
   },
   "file_extension": ".py",
   "mimetype": "text/x-python",
   "name": "python",
   "nbconvert_exporter": "python",
   "pygments_lexer": "ipython3",
   "version": "3.11.4"
  }
 },
 "nbformat": 4,
 "nbformat_minor": 2
}
