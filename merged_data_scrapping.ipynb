{
 "cells": [
  {
   "cell_type": "markdown",
   "metadata": {},
   "source": [
    "### 1. Import Library"
   ]
  },
  {
   "cell_type": "code",
   "execution_count": null,
   "metadata": {},
   "outputs": [],
   "source": [
    "import pandas as pd\n",
    "import os"
   ]
  },
  {
   "cell_type": "markdown",
   "metadata": {},
   "source": [
    "### 2. Read File .csv"
   ]
  },
  {
   "cell_type": "code",
   "execution_count": null,
   "metadata": {},
   "outputs": [],
   "source": [
    "# Nama-nama file CSV yang akan digabungkan dengan path relatif\n",
    "base_dir = '..\\\\de_capstone\\\\data_scrapping'\n",
    "base2_dir = '..\\\\de_capstone'\n",
    "file1 = os.path.join(base_dir, 'Data_Destination_Eristaa.csv')\n",
    "file2 = os.path.join(base_dir, 'data_destination_kinan.csv')\n",
    "file3 = os.path.join(base_dir, 'data_destination_rayhan.csv')\n",
    "\n",
    "# Direktori output dan nama file output\n",
    "output_dir = os.path.join(base2_dir, 'data_final_destination')\n",
    "output_file = os.path.join(output_dir, 'merged_data_destination.csv')\n",
    "\n",
    "# Membaca setiap file CSV ke dalam DataFrame dengan encoding 'latin1'\n",
    "df1 = pd.read_csv(file1, encoding='latin1')\n",
    "df2 = pd.read_csv(file2, encoding='latin1')\n",
    "df3 = pd.read_csv(file3, encoding='latin1')"
   ]
  },
  {
   "cell_type": "markdown",
   "metadata": {},
   "source": [
    "### 3. Merged Data Destination"
   ]
  },
  {
   "cell_type": "code",
   "execution_count": null,
   "metadata": {},
   "outputs": [],
   "source": [
    "# Menggabungkan ketiga DataFrame tersebut\n",
    "df_combined = pd.concat([df1, df2, df3], ignore_index=True)"
   ]
  },
  {
   "cell_type": "markdown",
   "metadata": {},
   "source": [
    "### 4. Tampilkan dalam Bentuk Dataframe"
   ]
  },
  {
   "cell_type": "code",
   "execution_count": null,
   "metadata": {},
   "outputs": [],
   "source": [
    "# Menampilkan hasil penggabungan dalam bentuk DataFrame\n",
    "df_combined"
   ]
  },
  {
   "cell_type": "markdown",
   "metadata": {},
   "source": [
    "### 5. Simpan dalam .csv"
   ]
  },
  {
   "cell_type": "code",
   "execution_count": null,
   "metadata": {},
   "outputs": [],
   "source": [
    "# Membuat direktori output jika belum ada\n",
    "os.makedirs(output_dir, exist_ok=True)\n",
    "\n",
    "# Menyimpan hasil penggabungan ke file CSV baru\n",
    "df_combined.to_csv(output_file, index=False, encoding='utf-8')\n",
    "\n",
    "print(f'Hasil penggabungan disimpan di {output_file}')"
   ]
  }
 ],
 "metadata": {
  "kernelspec": {
   "display_name": "Python 3",
   "language": "python",
   "name": "python3"
  },
  "language_info": {
   "codemirror_mode": {
    "name": "ipython",
    "version": 3
   },
   "file_extension": ".py",
   "mimetype": "text/x-python",
   "name": "python",
   "nbconvert_exporter": "python",
   "pygments_lexer": "ipython3",
   "version": "3.11.4"
  }
 },
 "nbformat": 4,
 "nbformat_minor": 2
}
